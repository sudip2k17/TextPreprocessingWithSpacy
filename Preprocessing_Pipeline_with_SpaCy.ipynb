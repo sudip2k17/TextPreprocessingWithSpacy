{
  "nbformat": 4,
  "nbformat_minor": 0,
  "metadata": {
    "colab": {
      "provenance": [],
      "authorship_tag": "ABX9TyN7LJPGxXYM0BBi7YhSfohV",
      "include_colab_link": true
    },
    "kernelspec": {
      "name": "python3",
      "display_name": "Python 3"
    },
    "language_info": {
      "name": "python"
    }
  },
  "cells": [
    {
      "cell_type": "markdown",
      "metadata": {
        "id": "view-in-github",
        "colab_type": "text"
      },
      "source": [
        "<a href=\"https://colab.research.google.com/github/sudip2k17/TextPreprocessingWithSpacy/blob/main/Preprocessing_Pipeline_with_SpaCy.ipynb\" target=\"_parent\"><img src=\"https://colab.research.google.com/assets/colab-badge.svg\" alt=\"Open In Colab\"/></a>"
      ]
    },
    {
      "cell_type": "markdown",
      "source": [
        "**Preprocessing Pipeline with SpaCy**\n",
        "\n",
        "Using SpaCy for stopword removal, lemmatization, and TF-IDF preparation"
      ],
      "metadata": {
        "id": "o4EXBF2J8tX9"
      }
    },
    {
      "cell_type": "code",
      "execution_count": 1,
      "metadata": {
        "id": "pyvPZx3y6R1P"
      },
      "outputs": [],
      "source": [
        "import spacy\n",
        "import string\n",
        "from sklearn.feature_extraction.text import TfidfVectorizer"
      ]
    },
    {
      "cell_type": "code",
      "source": [
        "# Load SpaCy model\n",
        "nlp = spacy.load(\"en_core_web_sm\")"
      ],
      "metadata": {
        "id": "UQv5AN1v8_ox"
      },
      "execution_count": 2,
      "outputs": []
    },
    {
      "cell_type": "code",
      "source": [
        "# Custom text preprocessing function\n",
        "def preprocess_text(text):\n",
        "    doc = nlp(text.lower())  # Convert to lowercase and tokenize\n",
        "    tokens = [\n",
        "        token.lemma_ for token in doc\n",
        "        if token.text not in string.punctuation  # Remove punctuation\n",
        "        and not token.is_stop  # Remove stopwords\n",
        "        and not token.is_space  # Remove extra spaces\n",
        "    ]\n",
        "    return \" \".join(tokens)"
      ],
      "metadata": {
        "id": "0u4t8nPQ9CDk"
      },
      "execution_count": 3,
      "outputs": []
    },
    {
      "cell_type": "code",
      "source": [
        "# Example text\n",
        "sample_text = \"IgE sensitization to Aspergillus fumigatus and a positive sputum fungal culture result are common in patients with refractory asthma .\"\n",
        "processed_text = preprocess_text(sample_text)\n",
        "print(processed_text)  # Output: \"result research highly significant medical study\"\n",
        "\n",
        "# Apply TF-IDF on processed text\n",
        "corpus = [processed_text]  # Example corpus\n",
        "vectorizer = TfidfVectorizer(ngram_range=(1,3))  # Using higher n-grams (uni-, bi-, tri-grams)\n",
        "X_tfidf = vectorizer.fit_transform(corpus)\n",
        "\n",
        "# Show extracted features\n",
        "print(vectorizer.get_feature_names_out())"
      ],
      "metadata": {
        "colab": {
          "base_uri": "https://localhost:8080/"
        },
        "id": "A3bO77849FY3",
        "outputId": "afada7af-12e4-4cac-b762-afb8c2c84585"
      },
      "execution_count": 7,
      "outputs": [
        {
          "output_type": "stream",
          "name": "stdout",
          "text": [
            "ige sensitization aspergillus fumigatus positive sputum fungal culture result common patient refractory asthma\n",
            "['aspergillus' 'aspergillus fumigatus' 'aspergillus fumigatus positive'\n",
            " 'asthma' 'common' 'common patient' 'common patient refractory' 'culture'\n",
            " 'culture result' 'culture result common' 'fumigatus' 'fumigatus positive'\n",
            " 'fumigatus positive sputum' 'fungal' 'fungal culture'\n",
            " 'fungal culture result' 'ige' 'ige sensitization'\n",
            " 'ige sensitization aspergillus' 'patient' 'patient refractory'\n",
            " 'patient refractory asthma' 'positive' 'positive sputum'\n",
            " 'positive sputum fungal' 'refractory' 'refractory asthma' 'result'\n",
            " 'result common' 'result common patient' 'sensitization'\n",
            " 'sensitization aspergillus' 'sensitization aspergillus fumigatus'\n",
            " 'sputum' 'sputum fungal' 'sputum fungal culture']\n"
          ]
        }
      ]
    }
  ]
}